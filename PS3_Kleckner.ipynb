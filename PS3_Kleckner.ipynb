{
 "cells": [
  {
   "cell_type": "markdown",
   "id": "693d1e51-bfe9-4366-9c94-ea3d6dcdbb02",
   "metadata": {},
   "source": [
    "# Problem Set 3\n",
    "## Kaylin Kleckner"
   ]
  },
  {
   "cell_type": "markdown",
   "id": "fcce0d0f-2b85-4bd6-9285-6ba26502bc89",
   "metadata": {},
   "source": [
    "For Fall 2022 BSC4452 using `/bsc4452/share/Class_Files/data/CO-OPS__8729108__wl.csv`"
   ]
  },
  {
   "cell_type": "markdown",
   "id": "9ef7a940-d315-4fcf-b8e7-f0c1a5cf2ca4",
   "metadata": {},
   "source": [
    "This dataset includes the changing water levels in Panama City, FL during Hurricane Michael."
   ]
  },
  {
   "cell_type": "markdown",
   "id": "4e82b312-1aff-4d69-8b21-3e516d031fce",
   "metadata": {},
   "source": [
    "\n",
    "## Problem 1\n",
    "\n",
    "Write a script (or Jupyter Notebook code block) that opens the file, uses a for loop to read through the file line by line and reports the highest water level and the date and time that was observed."
   ]
  },
  {
   "cell_type": "code",
   "execution_count": 63,
   "id": "357a6534-3595-46a4-986e-7a59fc62c2e1",
   "metadata": {
    "tags": []
   },
   "outputs": [
    {
     "name": "stdout",
     "output_type": "stream",
     "text": [
      "The highest water level was 6.647 feet, observed at 2018-10-10 18:06.\n"
     ]
    }
   ],
   "source": [
    "#open the file\n",
    "my_csv = open('/blue/bsc4452/share/Class_Files/data/CO-OPS__8729108__wl.csv')\n",
    "\n",
    "#define variables\n",
    "max_water_level = 0\n",
    "date_max_water = \"\"\n",
    "\n",
    "#use loop\n",
    "for line in my_csv:\n",
    "    line = line.rstrip() #removed double spacing \n",
    "    \n",
    "    columns = line.split(sep=\",\") #separate columns by commas\n",
    "    date = columns[0] #define date as the first column\n",
    "    try:\n",
    "        water_level = float(columns[1]) #define water level as second column\n",
    "    except:\n",
    "        continue #ignore blank lines\n",
    "   \n",
    "    if water_level > max_water_level: \n",
    "        max_water_level = water_level #set new max water level\n",
    "        date_max_water = date #set date of new max water level\n",
    "        \n",
    "    \n",
    "print(f\"The highest water level was {max_water_level} feet, observed at {date_max_water}.\")"
   ]
  },
  {
   "cell_type": "markdown",
   "id": "c06c768a-b80c-4d9c-9248-961dc0ca6f63",
   "metadata": {},
   "source": [
    "## Problem 2\n",
    "\n",
    "Either in a new script or modifying the above script, calculate the lowest, highest and average water level observed during the time period. As above, print the date and time for the lowest and highest readings. "
   ]
  },
  {
   "cell_type": "code",
   "execution_count": 64,
   "id": "bf0f409c-04fd-4915-b1f9-4dd2d60f6c97",
   "metadata": {},
   "outputs": [
    {
     "name": "stdout",
     "output_type": "stream",
     "text": [
      "The highest water level was 6.647 feet, observed at 2018-10-10 18:06.\n",
      "The lowest water level was 1.621 feet, observed at 2018-10-11 15:36.\n"
     ]
    }
   ],
   "source": [
    "#open the file\n",
    "my_csv = open('/blue/bsc4452/share/Class_Files/data/CO-OPS__8729108__wl.csv')\n",
    "\n",
    "#define variables\n",
    "max_water_level = 0\n",
    "date_max_water = \"\"\n",
    "\n",
    "min_water_level = 4 #can't set to zero, or zero will be minimum water level\n",
    "date_min_water = \"\"\n",
    "\n",
    "#use loop\n",
    "for line in my_csv:\n",
    "    line = line.rstrip() #removed double spacing \n",
    "    \n",
    "    columns = line.split(sep=\",\") #separate columns by commas\n",
    "    date = columns[0] #define date as the first column\n",
    "    try:\n",
    "        water_level = float(columns[1]) #define water level as second column\n",
    "    except:\n",
    "        continue #ignore blank lines\n",
    "   \n",
    "    if water_level > max_water_level: \n",
    "        max_water_level = water_level #set new max water level\n",
    "        date_max_water = date #set date of new max water level\n",
    "        \n",
    "    if water_level < min_water_level:\n",
    "        min_water_level = water_level #set new min water level\n",
    "        date_min_water = date #set date of new min water level\n",
    "        \n",
    "print(f\"The highest water level was {max_water_level} feet, observed at {date_max_water}.\")\n",
    "print(f\"The lowest water level was {min_water_level} feet, observed at {date_min_water}.\")"
   ]
  },
  {
   "cell_type": "code",
   "execution_count": 50,
   "id": "7c49f426-84e3-42ae-a32d-a91ea7076303",
   "metadata": {},
   "outputs": [
    {
     "name": "stdout",
     "output_type": "stream",
     "text": [
      "The average water level is 2.9823232044198895.\n"
     ]
    }
   ],
   "source": [
    "#load in mean function\n",
    "from statistics import mean\n",
    "\n",
    "#open file\n",
    "my_csv = open('/blue/bsc4452/share/Class_Files/data/CO-OPS__8729108__wl.csv')\n",
    "\n",
    "for line in my_csv:\n",
    "    line = line.strip() #remove double spacing\n",
    "    columns = line.split(sep=',') #separate columns by commas\n",
    "      \n",
    "    try: \n",
    "        water_levels.append(float(columns[1])) #make water levels into a list of float values\n",
    "    except:\n",
    "        continue #ignore header and missing values\n",
    "        \n",
    "\n",
    "mean_lvl = mean(water_levels) #calculate mean of list\n",
    "print(f\"The average water level is {mean_lvl}.\")"
   ]
  },
  {
   "cell_type": "markdown",
   "id": "4ca14576-1b2b-4893-9720-d544691ff8aa",
   "metadata": {},
   "source": [
    "## Problem 3\n",
    "\n",
    "Write a script (or Jupyter Notebook) that calculates the fastest rise in water level per 6-minute period between measurements (for this assignment, assume that each line of the dataset is a 6-minute interval) and reports the date and time that was observed and the change in water level from the previous recording."
   ]
  },
  {
   "cell_type": "code",
   "execution_count": 65,
   "id": "19577bbb-3ec2-4552-aaa7-c46f515e9cb6",
   "metadata": {},
   "outputs": [
    {
     "name": "stdout",
     "output_type": "stream",
     "text": [
      "The fastest rise in water level in six minutes was 0.6400000000000006 feet, observed at 2018-10-10 17:42.\n"
     ]
    }
   ],
   "source": [
    "#open the file\n",
    "my_csv = open('/blue/bsc4452/share/Class_Files/data/CO-OPS__8729108__wl.csv')\n",
    "\n",
    "#define variables\n",
    "max_change = 0\n",
    "prev_water = 2.421 #set as first value in column\n",
    "\n",
    "#use loop\n",
    "for line in my_csv:\n",
    "    line = line.strip() #removed double spacing \n",
    "    \n",
    "    columns = line.split(sep=\",\") #separate columns by commas\n",
    "    date = columns[0] #define date as the first column\n",
    "    \n",
    "    try:\n",
    "        water_level = float(columns[1]) #define water level as second column\n",
    "    except:\n",
    "        continue #ignore blank lines and header\n",
    "    \n",
    "    change_water= water_level - prev_water #define change in water level\n",
    "    \n",
    "    if change_water > max_change:\n",
    "        max_change = change_water #set new max change\n",
    "        max_date = date #set new date of max change\n",
    "        \n",
    "    prev_water = water_level #redefine previous water level for comparison in the next loop iteration\n",
    "    \n",
    "print(f\"The fastest rise in water level in six minutes was {max_change} feet, observed at {max_date}.\")    \n"
   ]
  },
  {
   "cell_type": "markdown",
   "id": "2f45513c-7afa-4195-b59c-627f7307da67",
   "metadata": {},
   "source": [
    "## Problem 4\n",
    "\n",
    "Imagine that the file is providing live readings of the water level. Write a script (or Jupyter Notebook) to print a line of text with a warning if any of these events occur: (1) The water level increases more than 0.25 since the previous recording. (2) The water level is over 5.0. (3) No reading is received at a time point."
   ]
  },
  {
   "cell_type": "code",
   "execution_count": 69,
   "id": "f9b9e747-3126-44ca-9ebc-9f735ef6d00b",
   "metadata": {},
   "outputs": [
    {
     "name": "stdout",
     "output_type": "stream",
     "text": [
      "WARNING: The water level has risen more than 0.25 feet! (Change in water level = 0.3019999999999996 ft)\n",
      "WARNING: The water level has risen more than 0.25 feet! (Change in water level = 0.2789999999999999 ft)\n",
      "WARNING: The water level has risen more than 0.25 feet! (Change in water level = 0.6400000000000006 ft)\n",
      "WARNING: The water level is over 5.0 feet! (Water level = 5.591 ft)\n",
      "WARNING: The water level has risen more than 0.25 feet! (Change in water level = 0.367 ft)\n",
      "WARNING: The water level is over 5.0 feet! (Water level = 5.958 ft)\n",
      "WARNING: The water level has risen more than 0.25 feet! (Change in water level = 0.44599999999999973 ft)\n",
      "WARNING: The water level is over 5.0 feet! (Water level = 6.404 ft)\n",
      "WARNING: The water level is over 5.0 feet! (Water level = 6.575 ft)\n",
      "WARNING: The water level is over 5.0 feet! (Water level = 6.647 ft)\n",
      "WARNING: The water level is over 5.0 feet! (Water level = 6.503 ft)\n",
      "WARNING: No reading recieved at 2018-10-10 18:18\n",
      "WARNING: The water level is over 5.0 feet! (Water level = 6.309 ft)\n",
      "WARNING: The water level is over 5.0 feet! (Water level = 6.024 ft)\n",
      "WARNING: The water level is over 5.0 feet! (Water level = 5.725 ft)\n",
      "WARNING: The water level is over 5.0 feet! (Water level = 5.699 ft)\n",
      "WARNING: The water level is over 5.0 feet! (Water level = 5.449 ft)\n",
      "WARNING: The water level is over 5.0 feet! (Water level = 5.338 ft)\n",
      "WARNING: The water level is over 5.0 feet! (Water level = 5.22 ft)\n"
     ]
    }
   ],
   "source": [
    "#open the file\n",
    "my_csv = open('/blue/bsc4452/share/Class_Files/data/CO-OPS__8729108__wl.csv')\n",
    "\n",
    "#define variable\n",
    "prev_water = 2.421 #set as first value in column\n",
    "\n",
    "#get rid of header to avoid messing up first warning\n",
    "my_csv.readline() #reads first line and throws it away\n",
    "\n",
    "#use loop\n",
    "for line in my_csv:\n",
    "    line = line.strip() #removed double spacing \n",
    "    \n",
    "    columns = line.split(sep=\",\") #separate columns by commas\n",
    "    date = columns[0] #define date as the first column\n",
    "    \n",
    "    try:\n",
    "        water_level = float(columns[1]) #define water level as second column, only taking floating points\n",
    "    except:\n",
    "        print(f\"WARNING: No reading recieved at {date}\") #print warning for blank rows\n",
    "        continue\n",
    "        \n",
    "    change_water= water_level - prev_water #define change in water level\n",
    "    \n",
    "    if change_water > 0.25: #define warning for change in water level\n",
    "        print(f\"WARNING: The water level has risen more than 0.25 feet! (Change in water level = {change_water} ft)\")\n",
    "        \n",
    "    if water_level > 5: #define warning for height of water level\n",
    "        print(f\"WARNING: The water level is over 5.0 feet! (Water level = {water_level} ft)\")\n",
    "        \n",
    "    prev_water = water_level #redefine previous water level for comparison in the next loop iteration\n",
    "    "
   ]
  },
  {
   "cell_type": "code",
   "execution_count": null,
   "id": "451cc209-fbdc-4168-b529-82fe8790ba82",
   "metadata": {},
   "outputs": [],
   "source": []
  }
 ],
 "metadata": {
  "kernelspec": {
   "display_name": "UFRC Python-3.10",
   "language": "python",
   "name": "python3-3.10-ufrc"
  },
  "language_info": {
   "codemirror_mode": {
    "name": "ipython",
    "version": 3
   },
   "file_extension": ".py",
   "mimetype": "text/x-python",
   "name": "python",
   "nbconvert_exporter": "python",
   "pygments_lexer": "ipython3",
   "version": "3.10.5"
  }
 },
 "nbformat": 4,
 "nbformat_minor": 5
}
